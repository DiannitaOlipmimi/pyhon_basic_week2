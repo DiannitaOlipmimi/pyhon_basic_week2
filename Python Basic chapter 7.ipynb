{
 "metadata": {
  "language_info": {
   "codemirror_mode": {
    "name": "ipython",
    "version": 3
   },
   "file_extension": ".py",
   "mimetype": "text/x-python",
   "name": "python",
   "nbconvert_exporter": "python",
   "pygments_lexer": "ipython3",
   "version": "3.8.2"
  },
  "orig_nbformat": 2,
  "kernelspec": {
   "name": "python382jvsc74a57bd0c33435f55a7315acd731686d420f686eddd34b7637d6c6be840a5486afddfda9",
   "display_name": "Python 3.8.2 64-bit"
  },
  "metadata": {
   "interpreter": {
    "hash": "c33435f55a7315acd731686d420f686eddd34b7637d6c6be840a5486afddfda9"
   }
  }
 },
 "nbformat": 4,
 "nbformat_minor": 2,
 "cells": [
  {
   "source": [
    "## 7.1. Introduction: Iteration\n",
    "---\n",
    "eksekusi yang diulang-ulang dalam computing disebut dengan iteration. iteration dapat dilakukan pada tipe data string, list, maupun tuple."
   ],
   "cell_type": "markdown",
   "metadata": {}
  },
  {
   "source": [
    "## 7.2 The **for** Loop\n",
    "---\n",
    "dalam Python, statment **for** digunakan untuk menulis program yang memiliki iterasi atau perulangan. sintaks secara umum untuk for adalah\n",
    "\n",
    "for <loop_var_name> in <sequence>:"
   ],
   "cell_type": "markdown",
   "metadata": {}
  },
  {
   "cell_type": "code",
   "execution_count": 1,
   "metadata": {},
   "outputs": [
    {
     "output_type": "stream",
     "name": "stdout",
     "text": [
      "Hi Joe Please come to my party on Saturday!\nHi Amy Please come to my party on Saturday!\nHi Brad Please come to my party on Saturday!\nHi Angelina Please come to my party on Saturday!\nHi Zuki Please come to my party on Saturday!\nHi Thandi Please come to my party on Saturday!\nHi Paris Please come to my party on Saturday!\n"
     ]
    }
   ],
   "source": [
    "for name in [\"Joe\", \"Amy\", \"Brad\", \"Angelina\", \"Zuki\", \"Thandi\", \"Paris\"]:\n",
    "    print(\"Hi\", name, \"Please come to my party on Saturday!\")"
   ]
  },
  {
   "source": [
    "## 7.3. Flow of Execution of the Loop\n",
    "---\n",
    "ketika sebuah program dijalankan, interpreter akan melacak statment yang akan dieksekusi, hal ini disebut dengan **control flow**.\n",
    "\n",
    "control flow berjalan dari atas kebawah dan secara berurutan "
   ],
   "cell_type": "markdown",
   "metadata": {}
  },
  {
   "source": [
    "## 7.4. Strings and **for** loop\n",
    "---\n",
    "perulangan for dalam strings akan dijalankan pada setiap itemnya dari kiri ke kanan. contohnya apabila terdapat 6 karakter string maka perulangan akan dijalankan sebanyak 6 kali, "
   ],
   "cell_type": "markdown",
   "metadata": {}
  },
  {
   "cell_type": "code",
   "execution_count": 2,
   "metadata": {},
   "outputs": [
    {
     "output_type": "stream",
     "name": "stdout",
     "text": [
      "G\no\n \nS\np\no\nt\n \nG\no\n"
     ]
    }
   ],
   "source": [
    "for achar in \"Go Spot Go\":\n",
    "    print(achar)"
   ]
  },
  {
   "cell_type": "code",
   "execution_count": 3,
   "metadata": {},
   "outputs": [
    {
     "output_type": "stream",
     "name": "stdout",
     "text": [
      "HELLO\nHELLO\nHELLO\nHELLO\nHELLO\nHELLO\nHELLO\nHELLO\nHELLO\nHELLO\nHELLO\nHELLO\n"
     ]
    }
   ],
   "source": [
    "s = \"python rocks\"\n",
    "for ch in s: \n",
    "   print(\"HELLO\") #hello diprint sebanyak len(s)"
   ]
  },
  {
   "cell_type": "code",
   "execution_count": 4,
   "metadata": {},
   "outputs": [
    {
     "output_type": "stream",
     "name": "stdout",
     "text": [
      "HELLO\nHELLO\nHELLO\nHELLO\nHELLO\n"
     ]
    }
   ],
   "source": [
    "s = \"python rocks\"\n",
    "for ch in s[3:8]:\n",
    "   print(\"HELLO\")"
   ]
  },
  {
   "cell_type": "code",
   "execution_count": null,
   "metadata": {},
   "outputs": [],
   "source": []
  }
 ]
}