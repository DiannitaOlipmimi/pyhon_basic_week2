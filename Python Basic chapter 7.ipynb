{
 "metadata": {
  "language_info": {
   "codemirror_mode": {
    "name": "ipython",
    "version": 3
   },
   "file_extension": ".py",
   "mimetype": "text/x-python",
   "name": "python",
   "nbconvert_exporter": "python",
   "pygments_lexer": "ipython3",
   "version": "3.8.2"
  },
  "orig_nbformat": 2,
  "kernelspec": {
   "name": "python382jvsc74a57bd0c33435f55a7315acd731686d420f686eddd34b7637d6c6be840a5486afddfda9",
   "display_name": "Python 3.8.2 64-bit"
  },
  "metadata": {
   "interpreter": {
    "hash": "c33435f55a7315acd731686d420f686eddd34b7637d6c6be840a5486afddfda9"
   }
  }
 },
 "nbformat": 4,
 "nbformat_minor": 2,
 "cells": [
  {
   "source": [
    "## 7.1. Introduction: Iteration\n",
    "---\n",
    "eksekusi yang diulang-ulang dalam computing disebut dengan iteration. iteration dapat dilakukan pada tipe data string, list, maupun tuple."
   ],
   "cell_type": "markdown",
   "metadata": {}
  },
  {
   "source": [
    "## 7.2 The **for** Loop\n",
    "---\n",
    "dalam Python, statment **for** digunakan untuk menulis program yang memiliki iterasi atau perulangan. sintaks secara umum untuk for adalah\n",
    "\n",
    "for <loop_var_name> in <sequence>:"
   ],
   "cell_type": "markdown",
   "metadata": {}
  },
  {
   "cell_type": "code",
   "execution_count": 1,
   "metadata": {},
   "outputs": [
    {
     "output_type": "stream",
     "name": "stdout",
     "text": [
      "Hi Joe Please come to my party on Saturday!\nHi Amy Please come to my party on Saturday!\nHi Brad Please come to my party on Saturday!\nHi Angelina Please come to my party on Saturday!\nHi Zuki Please come to my party on Saturday!\nHi Thandi Please come to my party on Saturday!\nHi Paris Please come to my party on Saturday!\n"
     ]
    }
   ],
   "source": [
    "for name in [\"Joe\", \"Amy\", \"Brad\", \"Angelina\", \"Zuki\", \"Thandi\", \"Paris\"]:\n",
    "    print(\"Hi\", name, \"Please come to my party on Saturday!\")"
   ]
  },
  {
   "source": [
    "## 7.3. Flow of Execution of the Loop\n",
    "---\n",
    "ketika sebuah program dijalankan, interpreter akan melacak statment yang akan dieksekusi, hal ini disebut dengan **control flow**.\n",
    "\n",
    "control flow berjalan dari atas kebawah dan secara berurutan "
   ],
   "cell_type": "markdown",
   "metadata": {}
  },
  {
   "source": [
    "## 7.4. Strings and **for** loop\n",
    "---\n",
    "perulangan for dalam strings akan dijalankan pada setiap itemnya dari kiri ke kanan. contohnya apabila terdapat 6 karakter string maka perulangan akan dijalankan sebanyak 6 kali, "
   ],
   "cell_type": "markdown",
   "metadata": {}
  },
  {
   "cell_type": "code",
   "execution_count": 2,
   "metadata": {},
   "outputs": [
    {
     "output_type": "stream",
     "name": "stdout",
     "text": [
      "G\no\n \nS\np\no\nt\n \nG\no\n"
     ]
    }
   ],
   "source": [
    "for achar in \"Go Spot Go\":\n",
    "    print(achar)"
   ]
  },
  {
   "cell_type": "code",
   "execution_count": 3,
   "metadata": {},
   "outputs": [
    {
     "output_type": "stream",
     "name": "stdout",
     "text": [
      "HELLO\nHELLO\nHELLO\nHELLO\nHELLO\nHELLO\nHELLO\nHELLO\nHELLO\nHELLO\nHELLO\nHELLO\n"
     ]
    }
   ],
   "source": [
    "s = \"python rocks\"\n",
    "for ch in s: \n",
    "   print(\"HELLO\") #hello diprint sebanyak len(s)"
   ]
  },
  {
   "cell_type": "code",
   "execution_count": 4,
   "metadata": {},
   "outputs": [
    {
     "output_type": "stream",
     "name": "stdout",
     "text": [
      "HELLO\nHELLO\nHELLO\nHELLO\nHELLO\n"
     ]
    }
   ],
   "source": [
    "s = \"python rocks\"\n",
    "for ch in s[3:8]:\n",
    "   print(\"HELLO\")"
   ]
  },
  {
   "source": [
    "## 7.5. Lists and for loops\n",
    "---\n",
    "selain dalam string, loop dapat dijalankan dalam list. loop dalam list akan diulangi sebanyak item dalam list."
   ],
   "cell_type": "markdown",
   "metadata": {}
  },
  {
   "cell_type": "code",
   "execution_count": 5,
   "metadata": {},
   "outputs": [
    {
     "output_type": "stream",
     "name": "stdout",
     "text": [
      "apple\norange\nbanana\ncherry\n"
     ]
    }
   ],
   "source": [
    "fruits = [\"apple\", \"orange\", \"banana\", \"cherry\"]\n",
    "\n",
    "for afruit in fruits:     # by item\n",
    "    print(afruit)"
   ]
  },
  {
   "cell_type": "code",
   "execution_count": 6,
   "metadata": {},
   "outputs": [
    {
     "output_type": "stream",
     "name": "stdout",
     "text": [
      "This will execute first\nThis line will execute three times\nThis line will also execute three times\nThis line will execute three times\nThis line will also execute three times\nThis line will execute three times\nThis line will also execute three times\nNow we are outside of the for loop!\n"
     ]
    }
   ],
   "source": [
    "#menggunakan range untuk menentukan banyak perulangan\n",
    "print(\"This will execute first\")\n",
    "\n",
    "for _ in range(3):\n",
    "    print(\"This line will execute three times\")\n",
    "    print(\"This line will also execute three times\")\n",
    "\n",
    "print(\"Now we are outside of the for loop!\")"
   ]
  },
  {
   "cell_type": "code",
   "execution_count": 7,
   "metadata": {},
   "outputs": [],
   "source": [
    "#contoh penggunaan for dalam turtle\n",
    "import turtle            # set up alex\n",
    "wn = turtle.Screen()\n",
    "alex = turtle.Turtle()\n",
    "\n",
    "for i in [0, 1, 2, 3]:      # repeat four times\n",
    "    alex.forward(50)\n",
    "    alex.left(90)\n",
    "\n",
    "wn.exitonclick()"
   ]
  },
  {
   "cell_type": "code",
   "execution_count": 11,
   "metadata": {},
   "outputs": [],
   "source": [
    "import turtle            \n",
    "wn = turtle.Screen()\n",
    "alex = turtle.Turtle()\n",
    "\n",
    "for aColor in [\"yellow\", \"red\", \"purple\", \"blue\"]:      #perulangan sebanyak 4 kali dengan warna aColor\n",
    "    alex.forward(50)\n",
    "    alex.left(90)\n",
    "\n",
    "wn.exitonclick()"
   ]
  },
  {
   "cell_type": "code",
   "execution_count": 13,
   "metadata": {},
   "outputs": [],
   "source": [
    "import turtle            # set up alex\n",
    "wn = turtle.Screen()\n",
    "alex = turtle.Turtle()\n",
    "\n",
    "for aColor in [\"yellow\", \"red\", \"purple\", \"blue\"]:\n",
    "    alex.color(aColor)\n",
    "    alex.forward(50)\n",
    "    alex.left(90)\n",
    "\n",
    "wn.exitonclick()"
   ]
  },
  {
   "cell_type": "code",
   "execution_count": 14,
   "metadata": {},
   "outputs": [
    {
     "output_type": "stream",
     "name": "stdout",
     "text": [
      "3\n4\nMe\n3\n[]\nWhy\n0\nTell\n9.3\n"
     ]
    }
   ],
   "source": [
    "p = [3, 4, \"Me\", 3, [], \"Why\", 0, \"Tell\", 9.3]\n",
    "for ch in p:\n",
    "   print(ch)"
   ]
  },
  {
   "source": [
    "## 7.6. The Accumulator Pattern\n",
    "---\n",
    "pola pemograman yang sering digunakan adalah **accumulating**. accumulating pola memiliki langkah,\n",
    "- initializing an “accumulator” variable to an initial value (such as 0 if accumulating a sum)\n",
    "\n",
    "- iterating (e.g., traversing the items in a sequence)\n",
    "\n",
    "- updating the accumulator variable on each iteration (i.e., when processing each item in the sequence)\n",
    "\n",
    "contohnya menghitung jumlah angka dalam list"
   ],
   "cell_type": "markdown",
   "metadata": {}
  },
  {
   "cell_type": "code",
   "execution_count": 18,
   "metadata": {},
   "outputs": [
    {
     "output_type": "stream",
     "name": "stdout",
     "text": [
      "55\n"
     ]
    }
   ],
   "source": [
    "nums = [1, 2, 3, 4, 5, 6, 7, 8, 9, 10]\n",
    "accum = 0\n",
    "for w in nums:\n",
    "    accum = accum + w\n",
    "print(accum)"
   ]
  },
  {
   "cell_type": "code",
   "execution_count": 19,
   "metadata": {},
   "outputs": [
    {
     "output_type": "stream",
     "name": "stdout",
     "text": [
      "range(5): \n0\n1\n2\n3\n4\nrange(0,5): \n0\n1\n2\n3\n4\n[0, 1, 2, 3, 4]\n[0, 1, 2, 3, 4]\nrange(0, 5)\n"
     ]
    }
   ],
   "source": [
    "print(\"range(5): \")\n",
    "for i in range(5):\n",
    "    print(i)\n",
    "\n",
    "print(\"range(0,5): \")\n",
    "for i in range(0, 5):\n",
    "    print(i)\n",
    "\n",
    "# Notice the casting of `range` to the `list`\n",
    "print(list(range(5)))\n",
    "print(list(range(0,5)))\n",
    "\n",
    "# Note: `range` function is already casted as `list` in the textbook\n",
    "print(range(5))"
   ]
  },
  {
   "cell_type": "code",
   "execution_count": 20,
   "metadata": {},
   "outputs": [
    {
     "output_type": "stream",
     "name": "stdout",
     "text": [
      "55\n55\n"
     ]
    }
   ],
   "source": [
    "accum = 0\n",
    "for w in range(11):\n",
    "    accum = accum + w\n",
    "print(accum)\n",
    "\n",
    "# or, if you use two inputs for the range function\n",
    "\n",
    "sec_accum = 0\n",
    "for w in range(1,11):\n",
    "    sec_accum = sec_accum + w\n",
    "print(sec_accum)"
   ]
  },
  {
   "cell_type": "code",
   "execution_count": 21,
   "metadata": {},
   "outputs": [
    {
     "output_type": "stream",
     "name": "stdout",
     "text": [
      "10\n"
     ]
    }
   ],
   "source": [
    "nums = [1, 2, 3, 4, 5, 6, 7, 8, 9, 10]\n",
    "count = 0\n",
    "for w in nums:\n",
    "    count = count + 1\n",
    "print(count)"
   ]
  },
  {
   "cell_type": "code",
   "execution_count": 22,
   "metadata": {},
   "outputs": [
    {
     "output_type": "stream",
     "name": "stdout",
     "text": [
      "10\n"
     ]
    }
   ],
   "source": [
    "nums = [1, 2, 3, 4, 5, 6, 7, 8, 9, 10]\n",
    "for w in nums:\n",
    "   accum = 0\n",
    "   accum = accum + w\n",
    "print(accum)"
   ]
  },
  {
   "source": [
    "---\n",
    "Write code to create a list of integers from 0 through 52 and assign that list to the variable numbers. You should use a special Python function – do not type out the whole list yourself. HINT: You can do this in one line of code!"
   ],
   "cell_type": "markdown",
   "metadata": {}
  },
  {
   "cell_type": "code",
   "execution_count": 23,
   "metadata": {},
   "outputs": [
    {
     "output_type": "stream",
     "name": "stdout",
     "text": [
      "[0, 1, 2, 3, 4, 5, 6, 7, 8, 9, 10, 11, 12, 13, 14, 15, 16, 17, 18, 19, 20, 21, 22, 23, 24, 25, 26, 27, 28, 29, 30, 31, 32, 33, 34, 35, 36, 37, 38, 39, 40, 41, 42, 43, 44, 45, 46, 47, 48, 49, 50, 51, 52]\n"
     ]
    }
   ],
   "source": [
    "numbers = list(range(53))\n",
    "\n",
    "print(numbers)"
   ]
  },
  {
   "source": [
    "---\n",
    "Count the number of characters in string str1. Do not use len(). Save the number in variable numbs."
   ],
   "cell_type": "markdown",
   "metadata": {}
  },
  {
   "cell_type": "code",
   "execution_count": 24,
   "metadata": {},
   "outputs": [
    {
     "output_type": "stream",
     "name": "stdout",
     "text": [
      "90\n"
     ]
    }
   ],
   "source": [
    "str1 = \"I like nonsense, it wakes up the brain cells. Fantasy is a necessary ingredient in living.\"\n",
    "\n",
    "numbs=0\n",
    "for i in str1:\n",
    "    numbs = numbs+1\n",
    "print(numbs)"
   ]
  },
  {
   "source": [
    "---\n",
    "Create a list of numbers 0 through 40 and assign this list to the variable numbers. Then, accumulate the total of the list’s values and assign that sum to the variable sum1."
   ],
   "cell_type": "markdown",
   "metadata": {}
  },
  {
   "cell_type": "code",
   "execution_count": 28,
   "metadata": {},
   "outputs": [
    {
     "output_type": "stream",
     "name": "stdout",
     "text": [
      "820\n"
     ]
    }
   ],
   "source": [
    "numbers = range(41)\n",
    "sum1=0\n",
    "for i in numbers:\n",
    "    sum1=sum1+i\n",
    "print(sum1)"
   ]
  },
  {
   "source": [
    "## 7.7. Tranversal dan **for** loop berdasarkan Index\n",
    "---\n",
    "ketika menggunakan loop, loop yang digunakan akan terikat pada urutan elemen. agar dapat melakukan perulangan menggunakan urutan berdasarkan index maka dapat digunakan function range."
   ],
   "cell_type": "markdown",
   "metadata": {}
  },
  {
   "cell_type": "code",
   "execution_count": 1,
   "metadata": {},
   "outputs": [
    {
     "output_type": "stream",
     "name": "stdout",
     "text": [
      "0 apple\n1 pear\n2 apricot\n3 cherry\n4 peach\n"
     ]
    }
   ],
   "source": [
    "fruits = ['apple', 'pear', 'apricot', 'cherry', 'peach']\n",
    "for n in range(5):\n",
    "    print(n, fruits[n])"
   ]
  },
  {
   "cell_type": "code",
   "execution_count": 2,
   "metadata": {},
   "outputs": [
    {
     "output_type": "stream",
     "name": "stdout",
     "text": [
      "0 apple\n1 pear\n2 apricot\n3 cherry\n4 peach\n"
     ]
    }
   ],
   "source": [
    "fruits = ['apple', 'pear', 'apricot', 'cherry', 'peach']\n",
    "for n in range(len(fruits)): #perulangan sebanyak item dalam list\n",
    "    print(n, fruits[n])"
   ]
  },
  {
   "cell_type": "code",
   "execution_count": 3,
   "metadata": {},
   "outputs": [
    {
     "output_type": "stream",
     "name": "stdout",
     "text": [
      "apple\npear\napricot\ncherry\npeach\n"
     ]
    }
   ],
   "source": [
    "fruits = ['apple', 'pear', 'apricot', 'cherry', 'peach']\n",
    "for fruit in fruits: #cara sederhana \n",
    "    print(fruit)"
   ]
  },
  {
   "cell_type": "code",
   "execution_count": 4,
   "metadata": {},
   "outputs": [
    {
     "output_type": "stream",
     "name": "stdout",
     "text": [
      "p\ny\np\ny\np\ny\n"
     ]
    }
   ],
   "source": [
    "s = \"python\"\n",
    "for idx in range(len(s)):\n",
    "   print(s[idx % 2])"
   ]
  },
  {
   "source": [
    "## 7.8. Nested Iteration: Image Processing\n",
    "---\n",
    "pada chapter ini akan dipelajari bagaimana perulangan dapat memanipulasi gambar atau images.\n",
    "\n",
    "gambar digital merupakan kumpulan elemen-elemen kecil bernama pixel. pixel disimpan dalam grid 2 dimensi yang masing-masingnya menggambarkan informasi terkecil dari sebuah gambar. setiap image memiliki ukuran panjang dan lebar yang berbeda-beda.\n",
    "\n",
    "setiap pixel dalam gambar biasanya memiliki 1 warna. setiap warna ini terbuat dari formula basic color yaitu red, green, blue. teknik membuat warna ini disebur dengan **RGB color Model**. jumlah tiap warnanya juga dapat disebut sebagai intensitas.\n",
    "\n",
    "intensitas warna paling kecil adalah 0 dan paling maksimum adalah 255. "
   ],
   "cell_type": "markdown",
   "metadata": {}
  },
  {
   "cell_type": "code",
   "execution_count": 23,
   "metadata": {},
   "outputs": [
    {
     "output_type": "error",
     "ename": "AttributeError",
     "evalue": "module 'PIL.Image' has no attribute 'Pixel'",
     "traceback": [
      "\u001b[1;31m---------------------------------------------------------------------------\u001b[0m",
      "\u001b[1;31mAttributeError\u001b[0m                            Traceback (most recent call last)",
      "\u001b[1;32m<ipython-input-23-86e76828889d>\u001b[0m in \u001b[0;36m<module>\u001b[1;34m\u001b[0m\n\u001b[0;32m      1\u001b[0m \u001b[1;32mfrom\u001b[0m \u001b[0mPIL\u001b[0m \u001b[1;32mimport\u001b[0m \u001b[0mImage\u001b[0m\u001b[1;33m\u001b[0m\u001b[1;33m\u001b[0m\u001b[0m\n\u001b[0;32m      2\u001b[0m \u001b[1;33m\u001b[0m\u001b[0m\n\u001b[1;32m----> 3\u001b[1;33m \u001b[0mp\u001b[0m \u001b[1;33m=\u001b[0m \u001b[0mImage\u001b[0m\u001b[1;33m.\u001b[0m\u001b[0mPixel\u001b[0m\u001b[1;33m(\u001b[0m\u001b[1;36m45\u001b[0m\u001b[1;33m,\u001b[0m \u001b[1;36m76\u001b[0m\u001b[1;33m,\u001b[0m \u001b[1;36m200\u001b[0m\u001b[1;33m)\u001b[0m\u001b[1;33m\u001b[0m\u001b[1;33m\u001b[0m\u001b[0m\n\u001b[0m\u001b[0;32m      4\u001b[0m \u001b[0mprint\u001b[0m\u001b[1;33m(\u001b[0m\u001b[0mp\u001b[0m\u001b[1;33m.\u001b[0m\u001b[0mgetRed\u001b[0m\u001b[1;33m(\u001b[0m\u001b[1;33m)\u001b[0m\u001b[1;33m)\u001b[0m\u001b[1;33m\u001b[0m\u001b[1;33m\u001b[0m\u001b[0m\n\u001b[0;32m      5\u001b[0m \u001b[0mp\u001b[0m\u001b[1;33m.\u001b[0m\u001b[0msetRed\u001b[0m\u001b[1;33m(\u001b[0m\u001b[1;36m66\u001b[0m\u001b[1;33m)\u001b[0m\u001b[1;33m\u001b[0m\u001b[1;33m\u001b[0m\u001b[0m\n",
      "\u001b[1;32m~\\AppData\\Local\\Programs\\Python\\Python38\\lib\\site-packages\\PIL\\Image.py\u001b[0m in \u001b[0;36m__getattr__\u001b[1;34m(name)\u001b[0m\n\u001b[0;32m     70\u001b[0m                 )\n\u001b[0;32m     71\u001b[0m                 \u001b[1;32mreturn\u001b[0m \u001b[0mcategories\u001b[0m\u001b[1;33m[\u001b[0m\u001b[0mname\u001b[0m\u001b[1;33m]\u001b[0m\u001b[1;33m\u001b[0m\u001b[1;33m\u001b[0m\u001b[0m\n\u001b[1;32m---> 72\u001b[1;33m         \u001b[1;32mraise\u001b[0m \u001b[0mAttributeError\u001b[0m\u001b[1;33m(\u001b[0m\u001b[1;34mf\"module '{__name__}' has no attribute '{name}'\"\u001b[0m\u001b[1;33m)\u001b[0m\u001b[1;33m\u001b[0m\u001b[1;33m\u001b[0m\u001b[0m\n\u001b[0m\u001b[0;32m     73\u001b[0m \u001b[1;33m\u001b[0m\u001b[0m\n\u001b[0;32m     74\u001b[0m \u001b[1;33m\u001b[0m\u001b[0m\n",
      "\u001b[1;31mAttributeError\u001b[0m: module 'PIL.Image' has no attribute 'Pixel'"
     ]
    }
   ],
   "source": [
    "from PIL import Image\n",
    "\n",
    "p = Image.Pixel(45, 76, 200)\n",
    "print(p.getRed())\n",
    "p.setRed(66)\n",
    "print(p.getRed())\n",
    "p.setBlue(p.getGreen())\n",
    "print(p.getGreen(), p.getBlue())"
   ]
  },
  {
   "cell_type": "code",
   "execution_count": 19,
   "metadata": {},
   "outputs": [
    {
     "output_type": "stream",
     "name": "stdout",
     "text": [
      "<PIL.Image.Image image mode=RGB size=512x512 at 0x27F16992BB0>\n"
     ]
    }
   ],
   "source": [
    "from PIL import Image\n",
    "im = Image.new(\"RGB\", (512, 512), \"white\")\n",
    "print(im)"
   ]
  },
  {
   "cell_type": "code",
   "execution_count": 22,
   "metadata": {},
   "outputs": [
    {
     "output_type": "error",
     "ename": "TypeError",
     "evalue": "__init__() takes 1 positional argument but 2 were given",
     "traceback": [
      "\u001b[1;31m---------------------------------------------------------------------------\u001b[0m",
      "\u001b[1;31mTypeError\u001b[0m                                 Traceback (most recent call last)",
      "\u001b[1;32m<ipython-input-22-4aac455d0d46>\u001b[0m in \u001b[0;36m<module>\u001b[1;34m\u001b[0m\n\u001b[0;32m      1\u001b[0m \u001b[1;32mfrom\u001b[0m \u001b[0mPIL\u001b[0m \u001b[1;32mimport\u001b[0m \u001b[0mImage\u001b[0m\u001b[1;33m\u001b[0m\u001b[1;33m\u001b[0m\u001b[0m\n\u001b[1;32m----> 2\u001b[1;33m \u001b[0mimg\u001b[0m \u001b[1;33m=\u001b[0m \u001b[0mImage\u001b[0m\u001b[1;33m.\u001b[0m\u001b[0mImage\u001b[0m\u001b[1;33m(\u001b[0m\u001b[1;34m\"luther.jpg\"\u001b[0m\u001b[1;33m)\u001b[0m\u001b[1;33m\u001b[0m\u001b[1;33m\u001b[0m\u001b[0m\n\u001b[0m\u001b[0;32m      3\u001b[0m \u001b[1;33m\u001b[0m\u001b[0m\n\u001b[0;32m      4\u001b[0m \u001b[0mprint\u001b[0m\u001b[1;33m(\u001b[0m\u001b[0mimg\u001b[0m\u001b[1;33m.\u001b[0m\u001b[0mgetWidth\u001b[0m\u001b[1;33m(\u001b[0m\u001b[1;33m)\u001b[0m\u001b[1;33m)\u001b[0m\u001b[1;33m\u001b[0m\u001b[1;33m\u001b[0m\u001b[0m\n\u001b[0;32m      5\u001b[0m \u001b[0mprint\u001b[0m\u001b[1;33m(\u001b[0m\u001b[0mimg\u001b[0m\u001b[1;33m.\u001b[0m\u001b[0mgetHeight\u001b[0m\u001b[1;33m(\u001b[0m\u001b[1;33m)\u001b[0m\u001b[1;33m)\u001b[0m\u001b[1;33m\u001b[0m\u001b[1;33m\u001b[0m\u001b[0m\n",
      "\u001b[1;31mTypeError\u001b[0m: __init__() takes 1 positional argument but 2 were given"
     ]
    }
   ],
   "source": [
    "from PIL import Image\n",
    "img = Image.Image(\"luther.jpg\")\n",
    "\n",
    "print(img.getWidth())\n",
    "print(img.getHeight())\n",
    "\n",
    "p = img.getPixel(45, 55)\n",
    "print(p.getRed(), p.getGreen(), p.getBlue())"
   ]
  },
  {
   "source": [
    "## 7.9. Printing Intermediate Result\n",
    "---\n",
    "melakukan perbandingan hasil perulangan atau function dengan menggunakan Intermediate result"
   ],
   "cell_type": "markdown",
   "metadata": {}
  },
  {
   "cell_type": "code",
   "execution_count": 25,
   "metadata": {},
   "outputs": [
    {
     "output_type": "stream",
     "name": "stdout",
     "text": [
      "45\n"
     ]
    }
   ],
   "source": [
    "w = range(10)\n",
    "\n",
    "tot = 0\n",
    "for num in w:\n",
    "    tot += num\n",
    "print(tot)"
   ]
  },
  {
   "cell_type": "code",
   "execution_count": 26,
   "metadata": {},
   "outputs": [
    {
     "output_type": "stream",
     "name": "stdout",
     "text": [
      "0\n1\n2\n3\n4\n5\n6\n7\n8\n9\n45\n"
     ]
    }
   ],
   "source": [
    "w = range(10)\n",
    "\n",
    "tot = 0\n",
    "for num in w:\n",
    "    print(num)\n",
    "    tot += num\n",
    "print(tot)"
   ]
  },
  {
   "cell_type": "code",
   "execution_count": 27,
   "metadata": {},
   "outputs": [
    {
     "output_type": "stream",
     "name": "stdout",
     "text": [
      "0\n0\n1\n1\n2\n3\n3\n6\n4\n10\n5\n15\n6\n21\n7\n28\n8\n36\n9\n45\n45\n"
     ]
    }
   ],
   "source": [
    "w = range(10)\n",
    "\n",
    "\n",
    "tot = 0\n",
    "for num in w:\n",
    "    print(num)\n",
    "    tot += num\n",
    "    print(tot)\n",
    "print(tot)"
   ]
  },
  {
   "cell_type": "code",
   "execution_count": 28,
   "metadata": {},
   "outputs": [
    {
     "output_type": "stream",
     "name": "stdout",
     "text": [
      "***** Before the For Loop ******\n***** A New Loop Iteration ******\nValue of num: 0\nValue of tot: 0\n***** A New Loop Iteration ******\nValue of num: 1\nValue of tot: 1\n***** A New Loop Iteration ******\nValue of num: 2\nValue of tot: 3\n***** A New Loop Iteration ******\nValue of num: 3\nValue of tot: 6\n***** A New Loop Iteration ******\nValue of num: 4\nValue of tot: 10\n***** A New Loop Iteration ******\nValue of num: 5\nValue of tot: 15\n***** A New Loop Iteration ******\nValue of num: 6\nValue of tot: 21\n***** A New Loop Iteration ******\nValue of num: 7\nValue of tot: 28\n***** A New Loop Iteration ******\nValue of num: 8\nValue of tot: 36\n***** A New Loop Iteration ******\nValue of num: 9\nValue of tot: 45\n***** End of For Loop *****\nFinal total: 45\n"
     ]
    }
   ],
   "source": [
    "w = range(10)\n",
    "\n",
    "tot = 0\n",
    "print(\"***** Before the For Loop ******\")\n",
    "for num in w:\n",
    "    print(\"***** A New Loop Iteration ******\")\n",
    "    print(\"Value of num:\", num)\n",
    "    tot += num\n",
    "    print(\"Value of tot:\", tot)\n",
    "print(\"***** End of For Loop *****\")\n",
    "print(\"Final total:\", tot)"
   ]
  },
  {
   "source": [
    "## Naming Variables in For Loop\n",
    "---\n",
    "penulisan mana dalam perulangan dapat memudahkan dalam mengenali fungsi atau perulangan yang dijalankan, beberapa hal yang harus diingat dalam pemberian nama adalah perbedaan kata benda tunggal dan jamak."
   ],
   "cell_type": "markdown",
   "metadata": {}
  },
  {
   "cell_type": "code",
   "execution_count": 34,
   "metadata": {},
   "outputs": [
    {
     "output_type": "stream",
     "name": "stdout",
     "text": [
      "jazz\npop\nrock\ncountry\npunk\nfolk\nhip-hop\nrap\nalternative\n"
     ]
    }
   ],
   "source": [
    "x = [\"jazz\", \"pop\", \"rock\", \"country\", \"punk\", \"folk\", \"hip-hop\", \"rap\", \"alternative\"]\n",
    "\n",
    "for y in x:\n",
    "    print(y)"
   ]
  },
  {
   "cell_type": "code",
   "execution_count": 35,
   "metadata": {},
   "outputs": [
    {
     "output_type": "stream",
     "name": "stdout",
     "text": [
      "jazz\npop\nrock\ncountry\npunk\nfolk\nhip-hop\nrap\nalternative\n"
     ]
    }
   ],
   "source": [
    "genres = [\"jazz\", \"pop\", \"rock\", \"country\", \"punk\", \"folk\", \"hip-hop\", \"rap\", \"alternative\"]\n",
    "\n",
    "for genre in genres:\n",
    "    print(genre) #perbedaan tunggal dan jamak"
   ]
  },
  {
   "cell_type": "code",
   "execution_count": null,
   "metadata": {},
   "outputs": [],
   "source": []
  }
 ]
}